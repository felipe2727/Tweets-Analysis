{
 "cells": [
  {
   "cell_type": "code",
   "execution_count": 1,
   "id": "61437799",
   "metadata": {},
   "outputs": [],
   "source": [
    "import json\n",
    "\n",
    "with open(\"./tweets.json\", \"r\") as f:\n",
    "    tweets = json.load(f)\n"
   ]
  },
  {
   "cell_type": "code",
   "execution_count": 37,
   "id": "41e2c232",
   "metadata": {},
   "outputs": [],
   "source": [
    "import pandas as pd\n",
    "import numpy as np"
   ]
  },
  {
   "cell_type": "code",
   "execution_count": 3,
   "id": "b91040d2",
   "metadata": {},
   "outputs": [
    {
     "data": {
      "text/plain": [
       "list"
      ]
     },
     "execution_count": 3,
     "metadata": {},
     "output_type": "execute_result"
    }
   ],
   "source": [
    "type(tweets)"
   ]
  },
  {
   "cell_type": "code",
   "execution_count": 65,
   "id": "96b7e891",
   "metadata": {},
   "outputs": [
    {
     "name": "stdout",
     "output_type": "stream",
     "text": [
      "There are  172 tweets in a language other than english\n"
     ]
    }
   ],
   "source": [
    "#1. How many tweets are not written in English? [advanced: calculate the number of tweets in each language used]\n",
    "\n",
    "count = 0\n",
    "x = len(tweets)\n",
    "\n",
    "for i in range(x):\n",
    "    if tweets[i]['lang'] != 'en':\n",
    "        count = count + 1\n",
    "print('There are ',  str(count) , 'tweets in a language other than english')"
   ]
  },
  {
   "cell_type": "code",
   "execution_count": 66,
   "id": "ffbcfa54",
   "metadata": {},
   "outputs": [
    {
     "name": "stdout",
     "output_type": "stream",
     "text": [
      "there are 14 tweets that mention the word battery\n"
     ]
    }
   ],
   "source": [
    "#2. How many tweets contain the word \"battery\" (whether in upper or lower case)?\n",
    "\n",
    "count = 0\n",
    "x = len(tweets)\n",
    "\n",
    "for i in range(x):\n",
    "    if 'battery' in tweets[i]['content']:\n",
    "        count = count + 1\n",
    "    if 'Battery' in tweets[i]['content']:\n",
    "        count = count + 1\n",
    "print('there are', str(count), 'tweets that mention the word battery')"
   ]
  },
  {
   "cell_type": "code",
   "execution_count": 61,
   "id": "e37d2018",
   "metadata": {},
   "outputs": [
    {
     "name": "stdout",
     "output_type": "stream",
     "text": [
      "the content of the tweet is:  @Dig1Tesla @LiberwolfLiber @Gabbicha_rueda @MiguelB50473177 @MI_NUEVO_CLON @MinekoKia @ROLFICOMPAFUEGO @ManuelVegaMX @AntilopeMalo @SUperMarioAnti4 @pejestad @NETORO70 @angelsancas @napoles_o @ElLoboFenix @AlanFrancisco75 @Lpez1Pio @AcmeMxx @JL0_42 @estanislaojr @_JEAL @samcro876376274 @evilscrat @mind_jacket @Vane_SiVal @jmvillalpando04 @NateHowl @jlopal_4T @blkalexmx @MIKE_DRG4915 @KleineKrOteFifi @AnalystTyrion @camagui1971 @LauraOsuna_4T @adnware @RobertoCanavar1 @ArturoV10636646 @GianinoGian @el_Barto__ @Mvp_2022e @secuaz @CantRefund @Val20_20 @lorenzo3017 @joset7285 @sin_socialismo @JaimeCCS @maurotimauroti @PabloMtzDelCam1 @GMonroyEnergy 🤣🤣🤣😂 El embajador de EUA decía que Borolas era alcohólico y su guerra contra el narco una farsa, Tesla pendejo, borolas te deja muy mal parado🤣🤣\n",
      "https://t.co/cBeENcDu8i\n",
      "the id of the tweet is:  1538723745979842563\n"
     ]
    }
   ],
   "source": [
    "#3. What is the longest tweet (print its content and ID)?\n",
    "\n",
    "x = len(tweets)\n",
    "y=[]\n",
    "for i in range (x):\n",
    "    y.append(len(tweets[i]['content']))\n",
    "z=y.index(max(y))\n",
    "print('the content of the longest tweet is: ', tweets[z]['content'])\n",
    "print('the id of the tweet is: ', tweets[z]['id'])\n",
    "        \n",
    "        "
   ]
  },
  {
   "cell_type": "code",
   "execution_count": 41,
   "id": "b6786ac4",
   "metadata": {},
   "outputs": [
    {
     "data": {
      "text/plain": [
       "150"
      ]
     },
     "execution_count": 41,
     "metadata": {},
     "output_type": "execute_result"
    }
   ],
   "source": [
    "len(tweets[0]['content'])"
   ]
  },
  {
   "cell_type": "code",
   "execution_count": 62,
   "id": "c5ad5820",
   "metadata": {},
   "outputs": [
    {
     "name": "stdout",
     "output_type": "stream",
     "text": [
      "the content of the tweet is:  Nikola Tesla\n",
      "the id of the tweet is:  1538716370392825856\n"
     ]
    }
   ],
   "source": [
    "#4 .And the shortest one (print its content and ID)?\n",
    "x = len(tweets)\n",
    "y=[]\n",
    "for i in range (x):\n",
    "    y.append(len(tweets[i]['content']))\n",
    "z=y.index(min(y))\n",
    "print('the content of the tweet is: ', tweets[z]['content'])\n",
    "print('the id of the tweet is: ', tweets[z]['id'])\n",
    "\n"
   ]
  },
  {
   "cell_type": "code",
   "execution_count": null,
   "id": "9372d99b",
   "metadata": {},
   "outputs": [],
   "source": []
  },
  {
   "cell_type": "code",
   "execution_count": 55,
   "id": "c7340b77",
   "metadata": {},
   "outputs": [
    {
     "name": "stdout",
     "output_type": "stream",
     "text": [
      "The hashtags on average per tweet are 0.673\n"
     ]
    }
   ],
   "source": [
    "# 5. How many hashtags does a tweet have on average?\n",
    "\n",
    "x = len(tweets)\n",
    "y=[]\n",
    "for i in range(x):\n",
    "    if tweets[i]['hashtags'] == None:\n",
    "        y.append(0)\n",
    "    else:\n",
    "        y.append(len(tweets[i]['hashtags']))\n",
    "print('The hashtags on average per tweet are', str(sum(y)/x))"
   ]
  },
  {
   "cell_type": "code",
   "execution_count": null,
   "id": "1bc3c7c9",
   "metadata": {},
   "outputs": [],
   "source": []
  },
  {
   "cell_type": "code",
   "execution_count": null,
   "id": "ddb529be",
   "metadata": {},
   "outputs": [],
   "source": []
  }
 ],
 "metadata": {
  "kernelspec": {
   "display_name": "Python 3 (ipykernel)",
   "language": "python",
   "name": "python3"
  },
  "language_info": {
   "codemirror_mode": {
    "name": "ipython",
    "version": 3
   },
   "file_extension": ".py",
   "mimetype": "text/x-python",
   "name": "python",
   "nbconvert_exporter": "python",
   "pygments_lexer": "ipython3",
   "version": "3.9.7"
  }
 },
 "nbformat": 4,
 "nbformat_minor": 5
}
